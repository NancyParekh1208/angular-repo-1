{
 "cells": [
  {
   "cell_type": "code",
   "execution_count": 1,
   "id": "c6d5815c",
   "metadata": {
    "_cell_guid": "b1076dfc-b9ad-4769-8c92-a6c4dae69d19",
    "_uuid": "8f2839f25d086af736a60e9eeb907d3b93b6e0e5",
    "execution": {
     "iopub.execute_input": "2025-07-20T23:04:45.010144Z",
     "iopub.status.busy": "2025-07-20T23:04:45.009787Z",
     "iopub.status.idle": "2025-07-20T23:04:46.843045Z",
     "shell.execute_reply": "2025-07-20T23:04:46.842260Z"
    },
    "papermill": {
     "duration": 1.839136,
     "end_time": "2025-07-20T23:04:46.844907",
     "exception": false,
     "start_time": "2025-07-20T23:04:45.005771",
     "status": "completed"
    },
    "tags": []
   },
   "outputs": [],
   "source": [
    "# This Python 3 environment comes with many helpful analytics libraries installed\n",
    "# It is defined by the kaggle/python Docker image: https://github.com/kaggle/docker-python\n",
    "# For example, here's several helpful packages to load\n",
    "\n",
    "import numpy as np # linear algebra\n",
    "import pandas as pd # data processing, CSV file I/O (e.g. pd.read_csv)\n",
    "\n",
    "# Input data files are available in the read-only \"../input/\" directory\n",
    "# For example, running this (by clicking run or pressing Shift+Enter) will list all files under the input directory\n",
    "\n",
    "import os\n",
    "for dirname, _, filenames in os.walk('/kaggle/input'):\n",
    "    for filename in filenames:\n",
    "        print(os.path.join(dirname, filename))\n",
    "\n",
    "# You can write up to 20GB to the current directory (/kaggle/working/) that gets preserved as output when you create a version using \"Save & Run All\" \n",
    "# You can also write temporary files to /kaggle/temp/, but they won't be saved outside of the current session"
   ]
  },
  {
   "cell_type": "markdown",
   "id": "fdfb9201",
   "metadata": {
    "papermill": {
     "duration": 0.002081,
     "end_time": "2025-07-20T23:04:46.849764",
     "exception": false,
     "start_time": "2025-07-20T23:04:46.847683",
     "status": "completed"
    },
    "tags": []
   },
   "source": [
    "Pytorch is an open source python deep learning library. It's one the most widely used deep learning library for research since 2019. It is popular because of it's user friendly interface and efficiency. It is accessible, flexibled and allows adavanced users to tweak lower level aspects of their models for customization and optimization.\n",
    "\n",
    "Core components of PyTorch - \n",
    "\n",
    "1. Tensor Library - PyTorch library implements a tensor array for efficient computing\n",
    "2. Automatic Differentiation Engine - PyTorch includes utilities to differentiate computations automatically.\n",
    "3. Deep learning library. - Deep learning utilities that use of above two\n",
    "\n",
    "So Tensors are the fundamental building blocks for computing, the automatic differentiation engine for model optimization, and deep learning utility functions to implement and train deep neural network models.\n",
    "\n",
    "Let's now look at Tensors in detail."
   ]
  },
  {
   "cell_type": "markdown",
   "id": "77c2b42d",
   "metadata": {
    "papermill": {
     "duration": 0.00178,
     "end_time": "2025-07-20T23:04:46.853734",
     "exception": false,
     "start_time": "2025-07-20T23:04:46.851954",
     "status": "completed"
    },
    "tags": []
   },
   "source": [
    "Tensors are similar to NumPy's ndarrays, except that tensors can run on GPU's and other hardware accelerators. It extends the concepts of array-oriented programming library NumPy with the additional feature of accelerated computation offering seamless switch between CPU and GPU. Tensors and NumPy arrays can often share the same underlying memory, eliminating copy data. Tensors are also optimized for Automatic Differentiation which we will explore later. Tensors are mainly used to encode inputs and outputs of a model, as well as the model'parameters. \n",
    "\n",
    "Let's go ahead to explore about Tensor's - "
   ]
  },
  {
   "cell_type": "code",
   "execution_count": 2,
   "id": "54607f9a",
   "metadata": {
    "execution": {
     "iopub.execute_input": "2025-07-20T23:04:46.858973Z",
     "iopub.status.busy": "2025-07-20T23:04:46.858565Z",
     "iopub.status.idle": "2025-07-20T23:04:51.709565Z",
     "shell.execute_reply": "2025-07-20T23:04:51.708596Z"
    },
    "papermill": {
     "duration": 4.855574,
     "end_time": "2025-07-20T23:04:51.711252",
     "exception": false,
     "start_time": "2025-07-20T23:04:46.855678",
     "status": "completed"
    },
    "tags": []
   },
   "outputs": [],
   "source": [
    "import torch\n",
    "import numpy as np"
   ]
  },
  {
   "cell_type": "code",
   "execution_count": 3,
   "id": "cea660db",
   "metadata": {
    "execution": {
     "iopub.execute_input": "2025-07-20T23:04:51.717321Z",
     "iopub.status.busy": "2025-07-20T23:04:51.716856Z",
     "iopub.status.idle": "2025-07-20T23:04:51.734372Z",
     "shell.execute_reply": "2025-07-20T23:04:51.733447Z"
    },
    "papermill": {
     "duration": 0.02226,
     "end_time": "2025-07-20T23:04:51.735906",
     "exception": false,
     "start_time": "2025-07-20T23:04:51.713646",
     "status": "completed"
    },
    "tags": []
   },
   "outputs": [],
   "source": [
    "# Intializing a Tensor - Using data directly\n",
    "\n",
    "data = [[1,2],[3,4]]\n",
    "x_data = torch.tensor(data)"
   ]
  },
  {
   "cell_type": "code",
   "execution_count": 4,
   "id": "f5b3b848",
   "metadata": {
    "execution": {
     "iopub.execute_input": "2025-07-20T23:04:51.741468Z",
     "iopub.status.busy": "2025-07-20T23:04:51.741172Z",
     "iopub.status.idle": "2025-07-20T23:04:51.774332Z",
     "shell.execute_reply": "2025-07-20T23:04:51.773442Z"
    },
    "papermill": {
     "duration": 0.037549,
     "end_time": "2025-07-20T23:04:51.775753",
     "exception": false,
     "start_time": "2025-07-20T23:04:51.738204",
     "status": "completed"
    },
    "tags": []
   },
   "outputs": [
    {
     "data": {
      "text/plain": [
       "tensor([[1, 2],\n",
       "        [3, 4]])"
      ]
     },
     "execution_count": 4,
     "metadata": {},
     "output_type": "execute_result"
    }
   ],
   "source": [
    "x_data"
   ]
  },
  {
   "cell_type": "code",
   "execution_count": 5,
   "id": "ce53554f",
   "metadata": {
    "execution": {
     "iopub.execute_input": "2025-07-20T23:04:51.781478Z",
     "iopub.status.busy": "2025-07-20T23:04:51.780878Z",
     "iopub.status.idle": "2025-07-20T23:04:51.789293Z",
     "shell.execute_reply": "2025-07-20T23:04:51.788419Z"
    },
    "papermill": {
     "duration": 0.012755,
     "end_time": "2025-07-20T23:04:51.790794",
     "exception": false,
     "start_time": "2025-07-20T23:04:51.778039",
     "status": "completed"
    },
    "tags": []
   },
   "outputs": [
    {
     "data": {
      "text/plain": [
       "tensor([[1, 2],\n",
       "        [3, 4]])"
      ]
     },
     "execution_count": 5,
     "metadata": {},
     "output_type": "execute_result"
    }
   ],
   "source": [
    "# Intializing a Tensor - Using NumPy Array\n",
    "np_array = np.array(data)\n",
    "x_np = torch.from_numpy(np_array)\n",
    "x_np"
   ]
  },
  {
   "cell_type": "code",
   "execution_count": 6,
   "id": "c546d879",
   "metadata": {
    "execution": {
     "iopub.execute_input": "2025-07-20T23:04:51.796887Z",
     "iopub.status.busy": "2025-07-20T23:04:51.796575Z",
     "iopub.status.idle": "2025-07-20T23:04:51.856220Z",
     "shell.execute_reply": "2025-07-20T23:04:51.855225Z"
    },
    "papermill": {
     "duration": 0.064542,
     "end_time": "2025-07-20T23:04:51.857854",
     "exception": false,
     "start_time": "2025-07-20T23:04:51.793312",
     "status": "completed"
    },
    "tags": []
   },
   "outputs": [
    {
     "name": "stdout",
     "output_type": "stream",
     "text": [
      "Ones Tensor: \n",
      " tensor([[1, 1],\n",
      "        [1, 1]]) \n",
      "\n",
      "Random Tensor: \n",
      " tensor([[0.9958, 0.7344],\n",
      "        [0.2672, 0.9389]]) \n",
      "\n"
     ]
    }
   ],
   "source": [
    "# Intializing a Tensor - Using another tensor\n",
    "\n",
    "x_ones = torch.ones_like(x_data) # Retains the properties of x_data like the size being 2 x 2\n",
    "\n",
    "print(f'Ones Tensor: \\n {x_ones} \\n')\n",
    "\n",
    "x_rand = torch.rand_like(x_data, dtype = torch.float)\n",
    "print(f'Random Tensor: \\n {x_rand} \\n')\n"
   ]
  },
  {
   "cell_type": "code",
   "execution_count": null,
   "id": "8e0ba179",
   "metadata": {
    "papermill": {
     "duration": 0.002082,
     "end_time": "2025-07-20T23:04:51.862446",
     "exception": false,
     "start_time": "2025-07-20T23:04:51.860364",
     "status": "completed"
    },
    "tags": []
   },
   "outputs": [],
   "source": []
  }
 ],
 "metadata": {
  "kaggle": {
   "accelerator": "none",
   "dataSources": [],
   "dockerImageVersionId": 31089,
   "isGpuEnabled": false,
   "isInternetEnabled": true,
   "language": "python",
   "sourceType": "notebook"
  },
  "kernelspec": {
   "display_name": "Python 3",
   "language": "python",
   "name": "python3"
  },
  "language_info": {
   "codemirror_mode": {
    "name": "ipython",
    "version": 3
   },
   "file_extension": ".py",
   "mimetype": "text/x-python",
   "name": "python",
   "nbconvert_exporter": "python",
   "pygments_lexer": "ipython3",
   "version": "3.11.13"
  },
  "papermill": {
   "default_parameters": {},
   "duration": 12.994225,
   "end_time": "2025-07-20T23:04:53.387516",
   "environment_variables": {},
   "exception": null,
   "input_path": "__notebook__.ipynb",
   "output_path": "__notebook__.ipynb",
   "parameters": {},
   "start_time": "2025-07-20T23:04:40.393291",
   "version": "2.6.0"
  }
 },
 "nbformat": 4,
 "nbformat_minor": 5
}
